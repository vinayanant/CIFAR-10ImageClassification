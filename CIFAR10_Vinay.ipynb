{
  "nbformat": 4,
  "nbformat_minor": 0,
  "metadata": {
    "accelerator": "GPU",
    "colab": {
      "name": "cifar10_tutorial_withhighaccuracy.ipynb",
      "provenance": []
    },
    "kernelspec": {
      "display_name": "Python 3",
      "language": "python",
      "name": "python3"
    },
    "language_info": {
      "codemirror_mode": {
        "name": "ipython",
        "version": 3
      },
      "file_extension": ".py",
      "mimetype": "text/x-python",
      "name": "python",
      "nbconvert_exporter": "python",
      "pygments_lexer": "ipython3",
      "version": "3.6.13"
    },
    "widgets": {
      "application/vnd.jupyter.widget-state+json": {
        "4a06b5f07a9e4057b504116985b18a2c": {
          "model_module": "@jupyter-widgets/controls",
          "model_name": "HBoxModel",
          "model_module_version": "1.5.0",
          "state": {
            "_view_name": "HBoxView",
            "_dom_classes": [],
            "_model_name": "HBoxModel",
            "_view_module": "@jupyter-widgets/controls",
            "_model_module_version": "1.5.0",
            "_view_count": null,
            "_view_module_version": "1.5.0",
            "box_style": "",
            "layout": "IPY_MODEL_32eabcbbe04c42cfb55e4545571f3d4b",
            "_model_module": "@jupyter-widgets/controls",
            "children": [
              "IPY_MODEL_04b87aaa60724fc59e75f6fa17945119",
              "IPY_MODEL_5430c896dbff4a2781cefa19b45b9cc8",
              "IPY_MODEL_4d8bcf26338844278431d0d0250ae5ae"
            ]
          }
        },
        "32eabcbbe04c42cfb55e4545571f3d4b": {
          "model_module": "@jupyter-widgets/base",
          "model_name": "LayoutModel",
          "model_module_version": "1.2.0",
          "state": {
            "_view_name": "LayoutView",
            "grid_template_rows": null,
            "right": null,
            "justify_content": null,
            "_view_module": "@jupyter-widgets/base",
            "overflow": null,
            "_model_module_version": "1.2.0",
            "_view_count": null,
            "flex_flow": null,
            "width": null,
            "min_width": null,
            "border": null,
            "align_items": null,
            "bottom": null,
            "_model_module": "@jupyter-widgets/base",
            "top": null,
            "grid_column": null,
            "overflow_y": null,
            "overflow_x": null,
            "grid_auto_flow": null,
            "grid_area": null,
            "grid_template_columns": null,
            "flex": null,
            "_model_name": "LayoutModel",
            "justify_items": null,
            "grid_row": null,
            "max_height": null,
            "align_content": null,
            "visibility": null,
            "align_self": null,
            "height": null,
            "min_height": null,
            "padding": null,
            "grid_auto_rows": null,
            "grid_gap": null,
            "max_width": null,
            "order": null,
            "_view_module_version": "1.2.0",
            "grid_template_areas": null,
            "object_position": null,
            "object_fit": null,
            "grid_auto_columns": null,
            "margin": null,
            "display": null,
            "left": null
          }
        },
        "04b87aaa60724fc59e75f6fa17945119": {
          "model_module": "@jupyter-widgets/controls",
          "model_name": "HTMLModel",
          "model_module_version": "1.5.0",
          "state": {
            "_view_name": "HTMLView",
            "style": "IPY_MODEL_08f3bf00c10f4c2e9208356dd832ce28",
            "_dom_classes": [],
            "description": "",
            "_model_name": "HTMLModel",
            "placeholder": "​",
            "_view_module": "@jupyter-widgets/controls",
            "_model_module_version": "1.5.0",
            "value": "",
            "_view_count": null,
            "_view_module_version": "1.5.0",
            "description_tooltip": null,
            "_model_module": "@jupyter-widgets/controls",
            "layout": "IPY_MODEL_46d5f10aa24142aa8dc9d1446d717d57"
          }
        },
        "5430c896dbff4a2781cefa19b45b9cc8": {
          "model_module": "@jupyter-widgets/controls",
          "model_name": "FloatProgressModel",
          "model_module_version": "1.5.0",
          "state": {
            "_view_name": "ProgressView",
            "style": "IPY_MODEL_cdf6ea2755b341e09dffa6b53bd59f9a",
            "_dom_classes": [],
            "description": "",
            "_model_name": "FloatProgressModel",
            "bar_style": "success",
            "max": 170498071,
            "_view_module": "@jupyter-widgets/controls",
            "_model_module_version": "1.5.0",
            "value": 170498071,
            "_view_count": null,
            "_view_module_version": "1.5.0",
            "orientation": "horizontal",
            "min": 0,
            "description_tooltip": null,
            "_model_module": "@jupyter-widgets/controls",
            "layout": "IPY_MODEL_cb763ed659b54ab0932b5d4f3a0cdb2e"
          }
        },
        "4d8bcf26338844278431d0d0250ae5ae": {
          "model_module": "@jupyter-widgets/controls",
          "model_name": "HTMLModel",
          "model_module_version": "1.5.0",
          "state": {
            "_view_name": "HTMLView",
            "style": "IPY_MODEL_348c2c827b1d425d974f1c6c2df2faf7",
            "_dom_classes": [],
            "description": "",
            "_model_name": "HTMLModel",
            "placeholder": "​",
            "_view_module": "@jupyter-widgets/controls",
            "_model_module_version": "1.5.0",
            "value": " 170499072/? [00:03&lt;00:00, 55918111.64it/s]",
            "_view_count": null,
            "_view_module_version": "1.5.0",
            "description_tooltip": null,
            "_model_module": "@jupyter-widgets/controls",
            "layout": "IPY_MODEL_8f8344ca1722451bab628295f85c2beb"
          }
        },
        "08f3bf00c10f4c2e9208356dd832ce28": {
          "model_module": "@jupyter-widgets/controls",
          "model_name": "DescriptionStyleModel",
          "model_module_version": "1.5.0",
          "state": {
            "_view_name": "StyleView",
            "_model_name": "DescriptionStyleModel",
            "description_width": "",
            "_view_module": "@jupyter-widgets/base",
            "_model_module_version": "1.5.0",
            "_view_count": null,
            "_view_module_version": "1.2.0",
            "_model_module": "@jupyter-widgets/controls"
          }
        },
        "46d5f10aa24142aa8dc9d1446d717d57": {
          "model_module": "@jupyter-widgets/base",
          "model_name": "LayoutModel",
          "model_module_version": "1.2.0",
          "state": {
            "_view_name": "LayoutView",
            "grid_template_rows": null,
            "right": null,
            "justify_content": null,
            "_view_module": "@jupyter-widgets/base",
            "overflow": null,
            "_model_module_version": "1.2.0",
            "_view_count": null,
            "flex_flow": null,
            "width": null,
            "min_width": null,
            "border": null,
            "align_items": null,
            "bottom": null,
            "_model_module": "@jupyter-widgets/base",
            "top": null,
            "grid_column": null,
            "overflow_y": null,
            "overflow_x": null,
            "grid_auto_flow": null,
            "grid_area": null,
            "grid_template_columns": null,
            "flex": null,
            "_model_name": "LayoutModel",
            "justify_items": null,
            "grid_row": null,
            "max_height": null,
            "align_content": null,
            "visibility": null,
            "align_self": null,
            "height": null,
            "min_height": null,
            "padding": null,
            "grid_auto_rows": null,
            "grid_gap": null,
            "max_width": null,
            "order": null,
            "_view_module_version": "1.2.0",
            "grid_template_areas": null,
            "object_position": null,
            "object_fit": null,
            "grid_auto_columns": null,
            "margin": null,
            "display": null,
            "left": null
          }
        },
        "cdf6ea2755b341e09dffa6b53bd59f9a": {
          "model_module": "@jupyter-widgets/controls",
          "model_name": "ProgressStyleModel",
          "model_module_version": "1.5.0",
          "state": {
            "_view_name": "StyleView",
            "_model_name": "ProgressStyleModel",
            "description_width": "",
            "_view_module": "@jupyter-widgets/base",
            "_model_module_version": "1.5.0",
            "_view_count": null,
            "_view_module_version": "1.2.0",
            "bar_color": null,
            "_model_module": "@jupyter-widgets/controls"
          }
        },
        "cb763ed659b54ab0932b5d4f3a0cdb2e": {
          "model_module": "@jupyter-widgets/base",
          "model_name": "LayoutModel",
          "model_module_version": "1.2.0",
          "state": {
            "_view_name": "LayoutView",
            "grid_template_rows": null,
            "right": null,
            "justify_content": null,
            "_view_module": "@jupyter-widgets/base",
            "overflow": null,
            "_model_module_version": "1.2.0",
            "_view_count": null,
            "flex_flow": null,
            "width": null,
            "min_width": null,
            "border": null,
            "align_items": null,
            "bottom": null,
            "_model_module": "@jupyter-widgets/base",
            "top": null,
            "grid_column": null,
            "overflow_y": null,
            "overflow_x": null,
            "grid_auto_flow": null,
            "grid_area": null,
            "grid_template_columns": null,
            "flex": null,
            "_model_name": "LayoutModel",
            "justify_items": null,
            "grid_row": null,
            "max_height": null,
            "align_content": null,
            "visibility": null,
            "align_self": null,
            "height": null,
            "min_height": null,
            "padding": null,
            "grid_auto_rows": null,
            "grid_gap": null,
            "max_width": null,
            "order": null,
            "_view_module_version": "1.2.0",
            "grid_template_areas": null,
            "object_position": null,
            "object_fit": null,
            "grid_auto_columns": null,
            "margin": null,
            "display": null,
            "left": null
          }
        },
        "348c2c827b1d425d974f1c6c2df2faf7": {
          "model_module": "@jupyter-widgets/controls",
          "model_name": "DescriptionStyleModel",
          "model_module_version": "1.5.0",
          "state": {
            "_view_name": "StyleView",
            "_model_name": "DescriptionStyleModel",
            "description_width": "",
            "_view_module": "@jupyter-widgets/base",
            "_model_module_version": "1.5.0",
            "_view_count": null,
            "_view_module_version": "1.2.0",
            "_model_module": "@jupyter-widgets/controls"
          }
        },
        "8f8344ca1722451bab628295f85c2beb": {
          "model_module": "@jupyter-widgets/base",
          "model_name": "LayoutModel",
          "model_module_version": "1.2.0",
          "state": {
            "_view_name": "LayoutView",
            "grid_template_rows": null,
            "right": null,
            "justify_content": null,
            "_view_module": "@jupyter-widgets/base",
            "overflow": null,
            "_model_module_version": "1.2.0",
            "_view_count": null,
            "flex_flow": null,
            "width": null,
            "min_width": null,
            "border": null,
            "align_items": null,
            "bottom": null,
            "_model_module": "@jupyter-widgets/base",
            "top": null,
            "grid_column": null,
            "overflow_y": null,
            "overflow_x": null,
            "grid_auto_flow": null,
            "grid_area": null,
            "grid_template_columns": null,
            "flex": null,
            "_model_name": "LayoutModel",
            "justify_items": null,
            "grid_row": null,
            "max_height": null,
            "align_content": null,
            "visibility": null,
            "align_self": null,
            "height": null,
            "min_height": null,
            "padding": null,
            "grid_auto_rows": null,
            "grid_gap": null,
            "max_width": null,
            "order": null,
            "_view_module_version": "1.2.0",
            "grid_template_areas": null,
            "object_position": null,
            "object_fit": null,
            "grid_auto_columns": null,
            "margin": null,
            "display": null,
            "left": null
          }
        }
      }
    }
  },
  "cells": [
    {
      "cell_type": "markdown",
      "metadata": {
        "id": "wTWbxTQ55qDV"
      },
      "source": [
        "\n",
        "Importing essential packages\n",
        "\n"
      ]
    },
    {
      "cell_type": "code",
      "metadata": {
        "id": "fMcnSPyz5qDX"
      },
      "source": [
        "# The code in this cell has been used from the link provided in the google doc of pytorch.org(https://pytorch.org/tutorials/beginner/blitz/cifar10_tutorial.html#sphx-glr-beginner-blitz-cifar10-tutorial-py)\n",
        "\n",
        "import torch\n",
        "import torchvision\n",
        "import torchvision.transforms as transforms\n",
        "import time # this line is added to import time package"
      ],
      "execution_count": 2,
      "outputs": []
    },
    {
      "cell_type": "code",
      "metadata": {
        "colab": {
          "base_uri": "https://localhost:8080/",
          "height": 100,
          "referenced_widgets": [
            "4a06b5f07a9e4057b504116985b18a2c",
            "32eabcbbe04c42cfb55e4545571f3d4b",
            "04b87aaa60724fc59e75f6fa17945119",
            "5430c896dbff4a2781cefa19b45b9cc8",
            "4d8bcf26338844278431d0d0250ae5ae",
            "08f3bf00c10f4c2e9208356dd832ce28",
            "46d5f10aa24142aa8dc9d1446d717d57",
            "cdf6ea2755b341e09dffa6b53bd59f9a",
            "cb763ed659b54ab0932b5d4f3a0cdb2e",
            "348c2c827b1d425d974f1c6c2df2faf7",
            "8f8344ca1722451bab628295f85c2beb"
          ]
        },
        "id": "pAm-vKfJ5qDX",
        "outputId": "d4cd3e26-dacc-43d1-a524-1035f7052527"
      },
      "source": [
        "# The code in this cell has been used from the link provided in the google doc of pytorch.org(https://pytorch.org/tutorials/beginner/blitz/cifar10_tutorial.html#sphx-glr-beginner-blitz-cifar10-tutorial-py)\n",
        "\n",
        "transform = transforms.Compose(\n",
        "    [transforms.ToTensor(),\n",
        "     transforms.Normalize((0.5, 0.5, 0.5), (0.5, 0.5, 0.5))])\n",
        "\n",
        "batch_size = 4\n",
        "\n",
        "trainset = torchvision.datasets.CIFAR10(root='./data', train=True,\n",
        "                                        download=True, transform=transform)\n",
        "trainloader = torch.utils.data.DataLoader(trainset, batch_size=batch_size,\n",
        "                                          shuffle=True, num_workers=2)\n",
        "\n",
        "testset = torchvision.datasets.CIFAR10(root='./data', train=False,\n",
        "                                       download=True, transform=transform)\n",
        "testloader = torch.utils.data.DataLoader(testset, batch_size=batch_size,\n",
        "                                         shuffle=False, num_workers=2)\n",
        "\n",
        "classes = ('plane', 'car', 'bird', 'cat',\n",
        "           'deer', 'dog', 'frog', 'horse', 'ship', 'truck')"
      ],
      "execution_count": 4,
      "outputs": [
        {
          "output_type": "stream",
          "name": "stdout",
          "text": [
            "Downloading https://www.cs.toronto.edu/~kriz/cifar-10-python.tar.gz to ./data/cifar-10-python.tar.gz\n"
          ]
        },
        {
          "output_type": "display_data",
          "data": {
            "application/vnd.jupyter.widget-view+json": {
              "model_id": "4a06b5f07a9e4057b504116985b18a2c",
              "version_minor": 0,
              "version_major": 2
            },
            "text/plain": [
              "  0%|          | 0/170498071 [00:00<?, ?it/s]"
            ]
          },
          "metadata": {}
        },
        {
          "output_type": "stream",
          "name": "stdout",
          "text": [
            "Extracting ./data/cifar-10-python.tar.gz to ./data\n",
            "Files already downloaded and verified\n"
          ]
        }
      ]
    },
    {
      "cell_type": "markdown",
      "metadata": {
        "id": "pjWaqsv75qDY"
      },
      "source": [
        "Let us show some of the training images, for fun.\n",
        "\n"
      ]
    },
    {
      "cell_type": "code",
      "metadata": {
        "colab": {
          "base_uri": "https://localhost:8080/",
          "height": 155
        },
        "id": "puxdnnjS5qDY",
        "outputId": "996c44ae-5ba7-466d-c4bb-c49fd7ea29ae"
      },
      "source": [
        "# The code in this cell has been used from the link provided in the google doc of pytorch.org(https://pytorch.org/tutorials/beginner/blitz/cifar10_tutorial.html#sphx-glr-beginner-blitz-cifar10-tutorial-py)\n",
        "\n",
        "import matplotlib.pyplot as plt\n",
        "import numpy as np\n",
        "\n",
        "# functions to show an image\n",
        "\n",
        "\n",
        "def imshow(img):\n",
        "    img = img / 2 + 0.5     # unnormalize\n",
        "    npimg = img.numpy()\n",
        "    plt.imshow(np.transpose(npimg, (1, 2, 0)))\n",
        "    plt.show()\n",
        "\n",
        "\n",
        "# get some random training images\n",
        "dataiter = iter(trainloader)\n",
        "images, labels = dataiter.next()\n",
        "\n",
        "# show images\n",
        "imshow(torchvision.utils.make_grid(images))\n",
        "# print labels\n",
        "print(' '.join('%5s' % classes[labels[j]] for j in range(batch_size)))"
      ],
      "execution_count": 5,
      "outputs": [
        {
          "output_type": "display_data",
          "data": {
            "image/png": "[encoded data removed]",
            "text/plain": [
              "<Figure size 432x288 with 1 Axes>"
            ]
          },
          "metadata": {
            "needs_background": "light"
          }
        },
        {
          "output_type": "stream",
          "name": "stdout",
          "text": [
            "truck  deer   cat   cat\n"
          ]
        }
      ]
    },
    {
      "cell_type": "markdown",
      "metadata": {
        "id": "151paofp5qDZ"
      },
      "source": [
        "2. Define a Convolutional Neural Network\n",
        "\n"
      ]
    },
    {
      "cell_type": "code",
      "metadata": {
        "id": "TzGWejsP5qDZ"
      },
      "source": [
        "# The code in this cell has been used from the link provided in the google doc of pytorch.org(https://pytorch.org/tutorials/beginner/blitz/cifar10_tutorial.html#sphx-glr-beginner-blitz-cifar10-tutorial-py)\n",
        "\n",
        "import torch.nn as nn\n",
        "import torch.nn.functional as F\n",
        "\n",
        "\n",
        "class Net(nn.Module):\n",
        "    def __init__(self):\n",
        "        super().__init__()\n",
        "        self.conv1 = nn.Conv2d(3, 6, 5)\n",
        "        self.pool = nn.MaxPool2d(2, 2)\n",
        "        self.conv2 = nn.Conv2d(6, 16, 5)\n",
        "        self.fc1 = nn.Linear(16 * 5 * 5, 120)\n",
        "        self.fc2 = nn.Linear(120, 84)\n",
        "        self.fc3 = nn.Linear(84, 10)\n",
        "\n",
        "    def forward(self, x):\n",
        "        x = self.pool(F.relu(self.conv1(x)))\n",
        "        x = self.pool(F.relu(self.conv2(x)))\n",
        "        x = torch.flatten(x, 1) # flatten all dimensions except batch\n",
        "        x = F.relu(self.fc1(x))\n",
        "        x = F.relu(self.fc2(x))\n",
        "        x = self.fc3(x)\n",
        "        return x\n",
        "\n",
        "\n",
        "net = Net()"
      ],
      "execution_count": 6,
      "outputs": []
    },
    {
      "cell_type": "markdown",
      "metadata": {
        "id": "3cjYxIlS5qDZ"
      },
      "source": [
        "3. Define a Loss function and optimizer\n",
        "^^^^^^^^^^^^^^^^^^^^^^^^^^^^^^^^^^^^^^^\n",
        "Let's use a Classification Cross-Entropy loss and SGD with momentum.\n",
        "\n"
      ]
    },
    {
      "cell_type": "code",
      "metadata": {
        "id": "Q_oxDdD35qDa"
      },
      "source": [
        "# The code in this cell has been used from the link provided in the google doc of pytorch.org(https://pytorch.org/tutorials/beginner/blitz/cifar10_tutorial.html#sphx-glr-beginner-blitz-cifar10-tutorial-py)\n",
        "\n",
        "import torch.optim as optim\n",
        "\n",
        "criterion = nn.CrossEntropyLoss()\n",
        "optimizer = optim.SGD(net.parameters(), lr=0.001, momentum=0.9) "
      ],
      "execution_count": 7,
      "outputs": []
    },
    {
      "cell_type": "markdown",
      "metadata": {
        "id": "PetGZj365qDa"
      },
      "source": [
        "4. Train the network\n",
        "^^^^^^^^^^^^^^^^^^^^\n",
        "\n",
        "This is when things start to get interesting.\n",
        "We simply have to loop over our data iterator, and feed the inputs to the\n",
        "network and optimize.\n",
        "\n"
      ]
    },
    {
      "cell_type": "code",
      "metadata": {
        "colab": {
          "base_uri": "https://localhost:8080/"
        },
        "id": "YtJbFS4A5qDa",
        "outputId": "5b91dd59-0808-4eb6-a190-0fcc829416fe"
      },
      "source": [
        "# The code in this cell has been used from the link provided in the google doc of pytorch.org(https://pytorch.org/tutorials/beginner/blitz/cifar10_tutorial.html#sphx-glr-beginner-blitz-cifar10-tutorial-py)\n",
        "# Some code is also added to calculate the start and stop time of training. Comments are added for the same.\n",
        "\n",
        "start_time1 = time.time() # this line is added to store the start time using time function\n",
        "\n",
        "for epoch in range(2):  # loop over the dataset multiple times\n",
        "\n",
        "    running_loss = 0.0\n",
        "    for i, data in enumerate(trainloader, 0):\n",
        "        # get the inputs; data is a list of [inputs, labels]\n",
        "        inputs, labels = data\n",
        "\n",
        "        # zero the parameter gradients\n",
        "        optimizer.zero_grad()\n",
        "\n",
        "        # forward + backward + optimize\n",
        "        outputs = net(inputs)\n",
        "        loss = criterion(outputs, labels)\n",
        "        loss.backward()\n",
        "        optimizer.step()\n",
        "\n",
        "        # print statistics\n",
        "        running_loss += loss.item()\n",
        "        if i % 2000 == 1999:    # print every 2000 mini-batches\n",
        "            print('[%d, %5d] loss: %.3f' %\n",
        "                  (epoch + 1, i + 1, running_loss / 2000))\n",
        "            running_loss = 0.0\n",
        "\n",
        "print('Finished Training')\n",
        "\n",
        "stop_time1 = time.time() # this line is added to capture the stop time using time function\n",
        "training_time1 = stop_time1 - start_time1 # this line is added to calculate the training time"
      ],
      "execution_count": 8,
      "outputs": [
        {
          "output_type": "stream",
          "name": "stderr",
          "text": [
            "/usr/local/lib/python3.7/dist-packages/torch/nn/functional.py:718: UserWarning: Named tensors and all their associated APIs are an experimental feature and subject to change. Please do not use them for anything important until they are released as stable. (Triggered internally at  /pytorch/c10/core/TensorImpl.h:1156.)\n",
            "  return torch.max_pool2d(input, kernel_size, stride, padding, dilation, ceil_mode)\n"
          ]
        },
        {
          "output_type": "stream",
          "name": "stdout",
          "text": [
            "[1,  2000] loss: 2.235\n",
            "[1,  4000] loss: 1.850\n",
            "[1,  6000] loss: 1.662\n",
            "[1,  8000] loss: 1.575\n",
            "[1, 10000] loss: 1.485\n",
            "[1, 12000] loss: 1.458\n",
            "[2,  2000] loss: 1.371\n",
            "[2,  4000] loss: 1.323\n",
            "[2,  6000] loss: 1.325\n",
            "[2,  8000] loss: 1.291\n",
            "[2, 10000] loss: 1.294\n",
            "[2, 12000] loss: 1.251\n",
            "Finished Training\n"
          ]
        }
      ]
    },
    {
      "cell_type": "markdown",
      "metadata": {
        "id": "MQE8MO8K5qDa"
      },
      "source": [
        "Let's quickly save our trained model:\n",
        "\n"
      ]
    },
    {
      "cell_type": "code",
      "metadata": {
        "id": "W9KLM2ML5qDa"
      },
      "source": [
        "# The code in this cell has been used from the link provided in the google doc of pytorch.org(https://pytorch.org/tutorials/beginner/blitz/cifar10_tutorial.html#sphx-glr-beginner-blitz-cifar10-tutorial-py)\n",
        "\n",
        "PATH = './cifar_net.pth'\n",
        "torch.save(net.state_dict(), PATH)"
      ],
      "execution_count": 9,
      "outputs": []
    },
    {
      "cell_type": "markdown",
      "metadata": {
        "id": "6GYQkl1c5qDa"
      },
      "source": [
        "See `here <https://pytorch.org/docs/stable/notes/serialization.html>`_\n",
        "for more details on saving PyTorch models.\n",
        "\n",
        "5. Test the network on the test data\n",
        "^^^^^^^^^^^^^^^^^^^^^^^^^^^^^^^^^^^^\n",
        "\n",
        "We have trained the network for 2 passes over the training dataset.\n",
        "But we need to check if the network has learnt anything at all.\n",
        "\n",
        "We will check this by predicting the class label that the neural network\n",
        "outputs, and checking it against the ground-truth. If the prediction is\n",
        "correct, we add the sample to the list of correct predictions.\n",
        "\n",
        "Okay, first step. Let us display an image from the test set to get familiar.\n",
        "\n"
      ]
    },
    {
      "cell_type": "code",
      "metadata": {
        "colab": {
          "base_uri": "https://localhost:8080/",
          "height": 155
        },
        "id": "ac5mxFzU5qDa",
        "outputId": "fb89b1b5-9f3a-4c38-def2-49f90f1f7185"
      },
      "source": [
        "# The code in this cell has been used from the link provided in the google doc of pytorch.org(https://pytorch.org/tutorials/beginner/blitz/cifar10_tutorial.html#sphx-glr-beginner-blitz-cifar10-tutorial-py)\n",
        "\n",
        "dataiter = iter(testloader)\n",
        "images, labels = dataiter.next()\n",
        "\n",
        "# print images\n",
        "imshow(torchvision.utils.make_grid(images))\n",
        "print('GroundTruth: ', ' '.join('%5s' % classes[labels[j]] for j in range(4)))"
      ],
      "execution_count": 10,
      "outputs": [
        {
          "output_type": "display_data",
          "data": {
            "image/png": "[encoded data removed]",
            "text/plain": [
              "<Figure size 432x288 with 1 Axes>"
            ]
          },
          "metadata": {
            "needs_background": "light"
          }
        },
        {
          "output_type": "stream",
          "name": "stdout",
          "text": [
            "GroundTruth:    cat  ship  ship plane\n"
          ]
        }
      ]
    },
    {
      "cell_type": "markdown",
      "metadata": {
        "id": "8fZ9LC3Y5qDb"
      },
      "source": [
        "Next, let's load back in our saved model (note: saving and re-loading the model\n",
        "wasn't necessary here, we only did it to illustrate how to do so):\n",
        "\n"
      ]
    },
    {
      "cell_type": "code",
      "metadata": {
        "colab": {
          "base_uri": "https://localhost:8080/"
        },
        "id": "c1wgNyLh5qDb",
        "outputId": "d990e353-fb5a-47d3-d1f8-3f23edd08322"
      },
      "source": [
        "# The code in this cell has been used from the link provided in the google doc of pytorch.org(https://pytorch.org/tutorials/beginner/blitz/cifar10_tutorial.html#sphx-glr-beginner-blitz-cifar10-tutorial-py)\n",
        "\n",
        "net = Net()\n",
        "net.load_state_dict(torch.load(PATH))"
      ],
      "execution_count": 11,
      "outputs": [
        {
          "output_type": "execute_result",
          "data": {
            "text/plain": [
              "<All keys matched successfully>"
            ]
          },
          "metadata": {},
          "execution_count": 11
        }
      ]
    },
    {
      "cell_type": "markdown",
      "metadata": {
        "id": "AU750CgY5qDb"
      },
      "source": [
        "Okay, now let us see what the neural network thinks these examples above are:\n",
        "\n"
      ]
    },
    {
      "cell_type": "code",
      "metadata": {
        "id": "OqZy22Wd5qDb"
      },
      "source": [
        "# The code in this cell has been used from the link provided in the google doc of pytorch.org(https://pytorch.org/tutorials/beginner/blitz/cifar10_tutorial.html#sphx-glr-beginner-blitz-cifar10-tutorial-py)\n",
        "\n",
        "outputs = net(images)"
      ],
      "execution_count": 12,
      "outputs": []
    },
    {
      "cell_type": "markdown",
      "metadata": {
        "id": "rECeC2Du5qDb"
      },
      "source": [
        "The outputs are energies for the 10 classes.\n",
        "The higher the energy for a class, the more the network\n",
        "thinks that the image is of the particular class.\n",
        "So, let's get the index of the highest energy:\n",
        "\n"
      ]
    },
    {
      "cell_type": "code",
      "metadata": {
        "colab": {
          "base_uri": "https://localhost:8080/"
        },
        "id": "8RT6z1qx5qDb",
        "outputId": "3125e405-efb9-4a00-bd21-a412eb5fb100"
      },
      "source": [
        "# The code in this cell has been used from the link provided in the google doc of pytorch.org(https://pytorch.org/tutorials/beginner/blitz/cifar10_tutorial.html#sphx-glr-beginner-blitz-cifar10-tutorial-py)\n",
        "\n",
        "_, predicted = torch.max(outputs, 1)\n",
        "\n",
        "print('Predicted: ', ' '.join('%5s' % classes[predicted[j]]\n",
        "                              for j in range(4))) "
      ],
      "execution_count": 13,
      "outputs": [
        {
          "output_type": "stream",
          "name": "stdout",
          "text": [
            "Predicted:   frog  ship   car  ship\n"
          ]
        }
      ]
    },
    {
      "cell_type": "markdown",
      "metadata": {
        "id": "Evb-lTvt5qDb"
      },
      "source": [
        "The results seem pretty good.\n",
        "\n",
        "Let us look at how the network performs on the whole dataset.\n",
        "\n"
      ]
    },
    {
      "cell_type": "code",
      "metadata": {
        "colab": {
          "base_uri": "https://localhost:8080/"
        },
        "id": "8VzVjXvM5qDb",
        "outputId": "d8b7321b-1157-4201-995e-330c44482c37"
      },
      "source": [
        "# The code in this cell has been used from the link provided in the google doc of pytorch.org(https://pytorch.org/tutorials/beginner/blitz/cifar10_tutorial.html#sphx-glr-beginner-blitz-cifar10-tutorial-py)\n",
        "# A line is added to store the accuracy. Comment is added for the same in front of it.\n",
        "correct = 0\n",
        "total = 0\n",
        "# since we're not training, we don't need to calculate the gradients for our outputs\n",
        "with torch.no_grad():\n",
        "    for data in testloader:\n",
        "        images, labels = data\n",
        "        # calculate outputs by running images through the network \n",
        "        outputs = net(images)\n",
        "        # the class with the highest energy is what we choose as prediction\n",
        "        _, predicted = torch.max(outputs.data, 1)\n",
        "        total += labels.size(0)\n",
        "        correct += (predicted == labels).sum().item()\n",
        "\n",
        "print('Accuracy of the network on the 10000 test images: %d %%' % (\n",
        "    100 * correct / total))\n",
        "first_accuracy = int(100 * correct / total) # this line is added to store the accuracy in first_accuracy"
      ],
      "execution_count": 14,
      "outputs": [
        {
          "output_type": "stream",
          "name": "stdout",
          "text": [
            "Accuracy of the network on the 10000 test images: 56 %\n"
          ]
        }
      ]
    },
    {
      "cell_type": "markdown",
      "metadata": {
        "id": "oHB_YzKU5qDb"
      },
      "source": [
        "That looks way better than chance, which is 10% accuracy (randomly picking\n",
        "a class out of 10 classes).\n",
        "Seems like the network learnt something.\n",
        "\n",
        "Hmmm, what are the classes that performed well, and the classes that did\n",
        "not perform well:\n",
        "\n"
      ]
    },
    {
      "cell_type": "code",
      "metadata": {
        "colab": {
          "base_uri": "https://localhost:8080/",
          "height": 465
        },
        "id": "k7ee1LWj5qDb",
        "outputId": "143356b7-abd4-4654-b3d8-24e0267b07a2"
      },
      "source": [
        "# The code in this cell has been used from the link provided in the google doc of pytorch.org(https://pytorch.org/tutorials/beginner/blitz/cifar10_tutorial.html#sphx-glr-beginner-blitz-cifar10-tutorial-py)\n",
        "# Some lines are added to plot the histogram. Comments are added for the same in front of it\n",
        "# prepare to count predictions for each class\n",
        "correct_pred = {classname: 0 for classname in classes}\n",
        "total_pred = {classname: 0 for classname in classes}\n",
        "\n",
        "# again no gradients needed\n",
        "with torch.no_grad():\n",
        "    for data in testloader:\n",
        "        images, labels = data    \n",
        "        outputs = net(images)    \n",
        "        _, predictions = torch.max(outputs, 1)\n",
        "        # collect the correct predictions for each class\n",
        "        for label, prediction in zip(labels, predictions):\n",
        "            if label == prediction:\n",
        "                correct_pred[classes[label]] += 1\n",
        "            total_pred[classes[label]] += 1\n",
        "\n",
        "  \n",
        "# print accuracy for each class\n",
        "for classname, correct_count in correct_pred.items():\n",
        "    accuracy = 100 * float(correct_count) / total_pred[classname]\n",
        "    print(\"Accuracy for class {:5s} is: {:.1f} %\".format(classname, \n",
        "                                                   accuracy))\n",
        "    plt.title('Accuracies for different set of images') # this line is added to provide the title to the histogram\n",
        "    plt.xlabel(\"Accuracy\") # this line is added to provide label to the x-axis of histogram \n",
        "    plt.barh(classname, accuracy) # this line is added to plot the histogram with classname and accuracy"
      ],
      "execution_count": 15,
      "outputs": [
        {
          "output_type": "stream",
          "name": "stdout",
          "text": [
            "Accuracy for class plane is: 48.2 %\n",
            "Accuracy for class car   is: 72.6 %\n",
            "Accuracy for class bird  is: 44.2 %\n",
            "Accuracy for class cat   is: 20.7 %\n",
            "Accuracy for class deer  is: 53.4 %\n",
            "Accuracy for class dog   is: 53.9 %\n",
            "Accuracy for class frog  is: 78.8 %\n",
            "Accuracy for class horse is: 54.7 %\n",
            "Accuracy for class ship  is: 71.4 %\n",
            "Accuracy for class truck is: 65.0 %\n"
          ]
        },
        {
          "output_type": "display_data",
          "data": {
            "image/png": "[encoded data removed]",
            "text/plain": [
              "<Figure size 432x288 with 1 Axes>"
            ]
          },
          "metadata": {
            "needs_background": "light"
          }
        }
      ]
    },
    {
      "cell_type": "code",
      "metadata": {
        "colab": {
          "base_uri": "https://localhost:8080/",
          "height": 312
        },
        "id": "Pa-PigrlCSRg",
        "outputId": "eb7ed8a2-67ce-4148-98a7-489d320707b9"
      },
      "source": [
        "# Some code of lines are added to the plot the histogram for showing the one experiment\n",
        "# Comments are added for the same in front of it\n",
        "\n",
        "x = [\"First experiment\"]   # this line is added to give the title to the x-axis of the histogram  \n",
        "y = first_accuracy # this line is added to store the first accuracy in y\n",
        "plt.title('Experiments Comparison') # this line is added to give the title to the histogram\n",
        "plt.xlabel(\"Accuracy\") # this line is added to give the label to the x-axis \n",
        "plt.barh(x, y) # this line is added to plot the histogram with x and y values\n"
      ],
      "execution_count": 16,
      "outputs": [
        {
          "output_type": "execute_result",
          "data": {
            "text/plain": [
              "<BarContainer object of 1 artists>"
            ]
          },
          "metadata": {},
          "execution_count": 16
        },
        {
          "output_type": "display_data",
          "data": {
            "image/png": "[encoded data removed]",
            "text/plain": [
              "<Figure size 432x288 with 1 Axes>"
            ]
          },
          "metadata": {
            "needs_background": "light"
          }
        }
      ]
    },
    {
      "cell_type": "code",
      "metadata": {
        "colab": {
          "base_uri": "https://localhost:8080/",
          "height": 1000
        },
        "id": "ZAumnsLYHvYb",
        "outputId": "6f0b0698-1dd1-4f8d-ccd8-e0a9086d160c"
      },
      "source": [
        "# The code in this cell has been used from the link provided in the google doc of pytorch.org(https://pytorch.org/tutorials/beginner/blitz/cifar10_tutorial.html#sphx-glr-beginner-blitz-cifar10-tutorial-py)\n",
        "# The code in this cell has been modified. In this code epoch time has been increased from 2 to 10\n",
        "# Some lines are added to plot the histogram. Comments are added for the same in front of them\n",
        "\n",
        "# Experiment 2\n",
        "# With 2 convolution layers and epoch 10\n",
        "start_time2 = time.time() # this line is added to store start time using time function\n",
        "import torch.nn as nn\n",
        "import torch.nn.functional as F\n",
        "\n",
        "\n",
        "class Net1(nn.Module):            # this line is modified with net name\n",
        "    def __init__(self):\n",
        "        super().__init__()\n",
        "        self.conv1 = nn.Conv2d(3, 6, 5)\n",
        "        self.pool = nn.MaxPool2d(2, 2)\n",
        "        self.conv2 = nn.Conv2d(6, 16, 5)\n",
        "        self.fc1 = nn.Linear(16 * 5 * 5, 120)\n",
        "        self.fc2 = nn.Linear(120, 84)\n",
        "        self.fc3 = nn.Linear(84, 10)\n",
        "\n",
        "    def forward(self, x):\n",
        "        x = self.pool(F.relu(self.conv1(x)))\n",
        "        x = self.pool(F.relu(self.conv2(x)))\n",
        "        x = torch.flatten(x, 1) # flatten all dimensions except batch\n",
        "        x = F.relu(self.fc1(x))\n",
        "        x = F.relu(self.fc2(x))\n",
        "        x = self.fc3(x)\n",
        "        return x\n",
        "\n",
        "\n",
        "net1 = Net1()   # this line is modified with the net name\n",
        "\n",
        "\n",
        "import torch.optim as optim\n",
        "\n",
        "criterion = nn.CrossEntropyLoss()\n",
        "optimizer = optim.SGD(net1.parameters(), lr=0.001, momentum=0.9)  # this line is modified with net name\n",
        "\n",
        "\n",
        "for epoch in range(10):  # epoch is changed to 10\n",
        "\n",
        "    running_loss = 0.0\n",
        "    for i, data in enumerate(trainloader, 0):\n",
        "        # get the inputs; data is a list of [inputs, labels]\n",
        "        inputs, labels = data\n",
        "\n",
        "        # zero the parameter gradients\n",
        "        optimizer.zero_grad()\n",
        "\n",
        "        # forward + backward + optimize\n",
        "        outputs = net1(inputs)    # this line is modified with net name\n",
        "        loss = criterion(outputs, labels)\n",
        "        loss.backward()\n",
        "        optimizer.step()\n",
        "\n",
        "        # print statistics\n",
        "        running_loss += loss.item()\n",
        "        if i % 2000 == 1999:    # print every 2000 mini-batches\n",
        "            print('[%d, %5d] loss: %.3f' %\n",
        "                  (epoch + 1, i + 1, running_loss / 2000))\n",
        "            running_loss = 0.0\n",
        "\n",
        "print('Finished Training')\n",
        "stop_time2 = time.time() # this line is added to store the stop time using time function\n",
        "training_time2 = stop_time2 - start_time2 # this line is added to calculate the training time\n",
        "\n",
        "\n",
        "correct = 0\n",
        "total = 0\n",
        "# since we're not training, we don't need to calculate the gradients for our outputs\n",
        "with torch.no_grad():\n",
        "    for data in testloader:\n",
        "        images, labels = data\n",
        "        # calculate outputs by running images through the network \n",
        "        outputs = net1(images)  # this line is modified with net name\n",
        "        # the class with the highest energy is what we choose as prediction\n",
        "        _, predicted = torch.max(outputs.data, 1)\n",
        "        total += labels.size(0)\n",
        "        correct += (predicted == labels).sum().item()\n",
        "\n",
        "print('Accuracy of the network on the 10000 test images: %d %%' % (\n",
        "    100 * correct / total))\n",
        "second_accuracy = int(100 * correct / total) # this line is added to store the accuracy\n",
        "\n",
        "\n",
        "\n",
        "# prepare to count predictions for each class\n",
        "correct_pred = {classname: 0 for classname in classes}\n",
        "total_pred = {classname: 0 for classname in classes}\n",
        "\n",
        "# again no gradients needed\n",
        "with torch.no_grad():\n",
        "    for data in testloader:\n",
        "        images, labels = data    \n",
        "        outputs = net1(images)    # this line is modified with the net name\n",
        "        _, predictions = torch.max(outputs, 1)\n",
        "        # collect the correct predictions for each class\n",
        "        for label, prediction in zip(labels, predictions):\n",
        "            if label == prediction:\n",
        "                correct_pred[classes[label]] += 1\n",
        "            total_pred[classes[label]] += 1\n",
        "\n",
        "  \n",
        "# print accuracy for each class\n",
        "for classname, correct_count in correct_pred.items():\n",
        "    accuracy = 100 * float(correct_count) / total_pred[classname]\n",
        "    print(\"Accuracy for class {:5s} is: {:.1f} %\".format(classname, \n",
        "                                                   accuracy))\n",
        "    plt.title('Accuracies for different set of images') # this line is added to give the title to the histogram \n",
        "    plt.xlabel(\"Accuracy\") # this line is added to give the label to x-axis of histogram\n",
        "    plt.barh(classname, accuracy) # this line is added to plot the histogram with the given classname and accuracy"
      ],
      "execution_count": 17,
      "outputs": [
        {
          "output_type": "stream",
          "name": "stdout",
          "text": [
            "[1,  2000] loss: 2.157\n",
            "[1,  4000] loss: 1.753\n",
            "[1,  6000] loss: 1.639\n",
            "[1,  8000] loss: 1.562\n",
            "[1, 10000] loss: 1.516\n",
            "[1, 12000] loss: 1.455\n",
            "[2,  2000] loss: 1.385\n",
            "[2,  4000] loss: 1.363\n",
            "[2,  6000] loss: 1.331\n",
            "[2,  8000] loss: 1.305\n",
            "[2, 10000] loss: 1.317\n",
            "[2, 12000] loss: 1.278\n",
            "[3,  2000] loss: 1.202\n",
            "[3,  4000] loss: 1.210\n",
            "[3,  6000] loss: 1.204\n",
            "[3,  8000] loss: 1.195\n",
            "[3, 10000] loss: 1.175\n",
            "[3, 12000] loss: 1.190\n",
            "[4,  2000] loss: 1.119\n",
            "[4,  4000] loss: 1.116\n",
            "[4,  6000] loss: 1.095\n",
            "[4,  8000] loss: 1.120\n",
            "[4, 10000] loss: 1.095\n",
            "[4, 12000] loss: 1.104\n",
            "[5,  2000] loss: 1.023\n",
            "[5,  4000] loss: 1.037\n",
            "[5,  6000] loss: 1.046\n",
            "[5,  8000] loss: 1.050\n",
            "[5, 10000] loss: 1.068\n",
            "[5, 12000] loss: 1.054\n",
            "[6,  2000] loss: 0.960\n",
            "[6,  4000] loss: 0.967\n",
            "[6,  6000] loss: 1.012\n",
            "[6,  8000] loss: 1.006\n",
            "[6, 10000] loss: 0.985\n",
            "[6, 12000] loss: 1.000\n",
            "[7,  2000] loss: 0.912\n",
            "[7,  4000] loss: 0.931\n",
            "[7,  6000] loss: 0.946\n",
            "[7,  8000] loss: 0.972\n",
            "[7, 10000] loss: 0.953\n",
            "[7, 12000] loss: 0.954\n",
            "[8,  2000] loss: 0.856\n",
            "[8,  4000] loss: 0.899\n",
            "[8,  6000] loss: 0.913\n",
            "[8,  8000] loss: 0.924\n",
            "[8, 10000] loss: 0.945\n",
            "[8, 12000] loss: 0.919\n",
            "[9,  2000] loss: 0.836\n",
            "[9,  4000] loss: 0.848\n",
            "[9,  6000] loss: 0.883\n",
            "[9,  8000] loss: 0.882\n",
            "[9, 10000] loss: 0.878\n",
            "[9, 12000] loss: 0.917\n",
            "[10,  2000] loss: 0.779\n",
            "[10,  4000] loss: 0.813\n",
            "[10,  6000] loss: 0.828\n",
            "[10,  8000] loss: 0.854\n",
            "[10, 10000] loss: 0.861\n",
            "[10, 12000] loss: 0.880\n",
            "Finished Training\n",
            "Accuracy of the network on the 10000 test images: 60 %\n",
            "Accuracy for class plane is: 65.2 %\n",
            "Accuracy for class car   is: 59.2 %\n",
            "Accuracy for class bird  is: 61.8 %\n",
            "Accuracy for class cat   is: 38.5 %\n",
            "Accuracy for class deer  is: 49.1 %\n",
            "Accuracy for class dog   is: 47.6 %\n",
            "Accuracy for class frog  is: 71.1 %\n",
            "Accuracy for class horse is: 55.4 %\n",
            "Accuracy for class ship  is: 79.1 %\n",
            "Accuracy for class truck is: 75.9 %\n"
          ]
        },
        {
          "output_type": "display_data",
          "data": {
            "image/png": "[encoded data removed]",
            "text/plain": [
              "<Figure size 432x288 with 1 Axes>"
            ]
          },
          "metadata": {
            "needs_background": "light"
          }
        }
      ]
    },
    {
      "cell_type": "code",
      "metadata": {
        "colab": {
          "base_uri": "https://localhost:8080/",
          "height": 312
        },
        "id": "Jqgnyf8QK7bs",
        "outputId": "0a94f538-cea8-4334-e47e-4bd3c1a11c32"
      },
      "source": [
        "# This cell has the code to plot the histogram for comparison between experiments\n",
        "\n",
        "x = [\"Experiment 1\", \"Experiment 2\"]   # this line is added to store experiments to x \n",
        "y = [first_accuracy, second_accuracy] # this line is added to store accuracies to y\n",
        "plt.title('Experiments Comparison') # this line is added to give the title to histogram\n",
        "plt.xlabel(\"Accuracy\") # this line is added to give the label to x axis of histogram\n",
        "plt.barh(x, y) # this line is added to plot the histogram with x and y values"
      ],
      "execution_count": 18,
      "outputs": [
        {
          "output_type": "execute_result",
          "data": {
            "text/plain": [
              "<BarContainer object of 2 artists>"
            ]
          },
          "metadata": {},
          "execution_count": 18
        },
        {
          "output_type": "display_data",
          "data": {
            "image/png": "[encoded data removed]",
            "text/plain": [
              "<Figure size 432x288 with 1 Axes>"
            ]
          },
          "metadata": {
            "needs_background": "light"
          }
        }
      ]
    },
    {
      "cell_type": "code",
      "metadata": {
        "colab": {
          "base_uri": "https://localhost:8080/",
          "height": 703
        },
        "id": "jIh21KWPTc1V",
        "outputId": "aaace3d3-e5fe-49b3-d27b-42671f048dac"
      },
      "source": [
        "# The code in this cell has been used from the link provided in the google doc of pytorch.org(https://pytorch.org/tutorials/beginner/blitz/cifar10_tutorial.html#sphx-glr-beginner-blitz-cifar10-tutorial-py)\n",
        "# The code in this cell has been modified. In this code two new convolution layers are added\n",
        "# Some lines are added to plot the histogram. Comments are added for the same in front of it\n",
        "\n",
        "# Experiment 3\n",
        "# With four convolution layers\n",
        "start_time3 = time.time() # start time that captures starting time using time function\n",
        "import torch.nn as nn\n",
        "import torch.nn.functional as F\n",
        "\n",
        "\n",
        "class Net2(nn.Module):  # this line is modified with net name\n",
        "    def __init__(self):\n",
        "        super().__init__()\n",
        "        self.conv1 = nn.Conv2d(3, 6, 5)\n",
        "        self.pool = nn.MaxPool2d(2, 2)\n",
        "        self.conv2 = nn.Conv2d(6, 16, 5)\n",
        "        self.conv3 = nn.Conv2d(16, 30, 5) # this line is added with the 3rd convolution layer\n",
        "        self.conv4 = nn.Conv2d(30, 60, 5) # this line is added with the 4th convolution layer\n",
        "        self.fc1 = nn.Linear(16 * 5 * 5, 120)\n",
        "        self.fc2 = nn.Linear(120, 84)\n",
        "        self.fc3 = nn.Linear(84, 10)\n",
        "\n",
        "    def forward(self, x):\n",
        "        x = self.pool(F.relu(self.conv1(x)))\n",
        "        x = self.pool(F.relu(self.conv2(x)))\n",
        "        x = torch.flatten(x, 1) # flatten all dimensions except batch\n",
        "        x = F.relu(self.fc1(x))\n",
        "        x = F.relu(self.fc2(x))\n",
        "        x = self.fc3(x)\n",
        "        return x\n",
        "\n",
        "\n",
        "net2 = Net2() # This line is modified by net name\n",
        "\n",
        "\n",
        "import torch.optim as optim\n",
        "\n",
        "criterion = nn.CrossEntropyLoss()\n",
        "optimizer = optim.SGD(net2.parameters(), lr=0.001, momentum=0.9)  # this line is modified by net name\n",
        "\n",
        "\n",
        "for epoch in range(2):  # loop over the dataset multiple times\n",
        "\n",
        "    running_loss = 0.0\n",
        "    for i, data in enumerate(trainloader, 0):\n",
        "        # get the inputs; data is a list of [inputs, labels]\n",
        "        inputs, labels = data\n",
        "\n",
        "        # zero the parameter gradients\n",
        "        optimizer.zero_grad()\n",
        "\n",
        "        # forward + backward + optimize\n",
        "        outputs = net2(inputs)  # this line is modified by net name\n",
        "        loss = criterion(outputs, labels)\n",
        "        loss.backward()\n",
        "        optimizer.step()\n",
        "\n",
        "        # print statistics\n",
        "        running_loss += loss.item()\n",
        "        if i % 2000 == 1999:    # print every 2000 mini-batches\n",
        "            print('[%d, %5d] loss: %.3f' %\n",
        "                  (epoch + 1, i + 1, running_loss / 2000))\n",
        "            running_loss = 0.0\n",
        "\n",
        "print('Finished Training')\n",
        "stop_time3 = time.time() # this line is added to calculate the stop time after training\n",
        "training_time3 = stop_time3 - start_time3 # this line is added to calculate to training time\n",
        "\n",
        "\n",
        "correct = 0\n",
        "total = 0\n",
        "# since we're not training, we don't need to calculate the gradients for our outputs\n",
        "with torch.no_grad():\n",
        "    for data in testloader:\n",
        "        images, labels = data\n",
        "        # calculate outputs by running images through the network \n",
        "        outputs = net2(images)  # this line is modified with the net name\n",
        "        # the class with the highest energy is what we choose as prediction\n",
        "        _, predicted = torch.max(outputs.data, 1)\n",
        "        total += labels.size(0)\n",
        "        correct += (predicted == labels).sum().item()\n",
        "\n",
        "print('Accuracy of the network on the 10000 test images: %d %%' % (\n",
        "    100 * correct / total))\n",
        "third_accuracy = int(100 * correct / total) # this line is added to calculate the accuracy\n",
        "\n",
        "\n",
        "# prepare to count predictions for each class\n",
        "correct_pred = {classname: 0 for classname in classes}\n",
        "total_pred = {classname: 0 for classname in classes}\n",
        "\n",
        "# again no gradients needed\n",
        "with torch.no_grad():\n",
        "    for data in testloader:\n",
        "        images, labels = data    \n",
        "        outputs = net2(images)    # this line is modified with the net name\n",
        "        _, predictions = torch.max(outputs, 1)\n",
        "        # collect the correct predictions for each class\n",
        "        for label, prediction in zip(labels, predictions):\n",
        "            if label == prediction:\n",
        "                correct_pred[classes[label]] += 1\n",
        "            total_pred[classes[label]] += 1\n",
        "\n",
        "  \n",
        "# print accuracy for each class\n",
        "for classname, correct_count in correct_pred.items():\n",
        "    accuracy = 100 * float(correct_count) / total_pred[classname]\n",
        "    print(\"Accuracy for class {:5s} is: {:.1f} %\".format(classname, \n",
        "                                                   accuracy))\n",
        "    plt.title('Accuracies for different set of images') # this line is added to add the title to the plot\n",
        "    plt.xlabel(\"Accuracy\") # this line is added to add the label to x-axis of the plot\n",
        "    plt.barh(classname, accuracy) # this line is added to plot the histogram"
      ],
      "execution_count": 19,
      "outputs": [
        {
          "output_type": "stream",
          "name": "stdout",
          "text": [
            "[1,  2000] loss: 2.179\n",
            "[1,  4000] loss: 1.875\n",
            "[1,  6000] loss: 1.697\n",
            "[1,  8000] loss: 1.588\n",
            "[1, 10000] loss: 1.526\n",
            "[1, 12000] loss: 1.478\n",
            "[2,  2000] loss: 1.415\n",
            "[2,  4000] loss: 1.396\n",
            "[2,  6000] loss: 1.361\n",
            "[2,  8000] loss: 1.354\n",
            "[2, 10000] loss: 1.317\n",
            "[2, 12000] loss: 1.287\n",
            "Finished Training\n",
            "Accuracy of the network on the 10000 test images: 53 %\n",
            "Accuracy for class plane is: 61.6 %\n",
            "Accuracy for class car   is: 64.5 %\n",
            "Accuracy for class bird  is: 28.8 %\n",
            "Accuracy for class cat   is: 36.4 %\n",
            "Accuracy for class deer  is: 52.5 %\n",
            "Accuracy for class dog   is: 35.1 %\n",
            "Accuracy for class frog  is: 79.7 %\n",
            "Accuracy for class horse is: 52.6 %\n",
            "Accuracy for class ship  is: 75.0 %\n",
            "Accuracy for class truck is: 51.3 %\n"
          ]
        },
        {
          "output_type": "display_data",
          "data": {
            "image/png": "[encoded data removed]",
            "text/plain": [
              "<Figure size 432x288 with 1 Axes>"
            ]
          },
          "metadata": {
            "needs_background": "light"
          }
        }
      ]
    },
    {
      "cell_type": "code",
      "metadata": {
        "colab": {
          "base_uri": "https://localhost:8080/",
          "height": 312
        },
        "id": "DAp7bU7LUPa4",
        "outputId": "c00a5618-f3ae-4dc4-faec-11c2e9ad7b5a"
      },
      "source": [
        "# This cell has code to plot the histogram\n",
        "\n",
        "x = [\"Experiment 1\", \"Experiment 2\", \"Experiment 3\"]   # x which consists of multiple experiments \n",
        "y = [first_accuracy, second_accuracy, third_accuracy] # y which consists of multiple accuracies\n",
        "plt.title('Plot showing various Experiments') # this line provides title to the histogram\n",
        "plt.xlabel(\"Accuracy\") # this line is added to provide label to the x-axis\n",
        "plt.barh(x, y) # this line is added to plot the histogram with x and y values"
      ],
      "execution_count": 20,
      "outputs": [
        {
          "output_type": "execute_result",
          "data": {
            "text/plain": [
              "<BarContainer object of 3 artists>"
            ]
          },
          "metadata": {},
          "execution_count": 20
        },
        {
          "output_type": "display_data",
          "data": {
            "image/png": "[encoded data removed]",
            "text/plain": [
              "<Figure size 432x288 with 1 Axes>"
            ]
          },
          "metadata": {
            "needs_background": "light"
          }
        }
      ]
    },
    {
      "cell_type": "code",
      "metadata": {
        "colab": {
          "base_uri": "https://localhost:8080/",
          "height": 703
        },
        "id": "Imw3w0-uVO_l",
        "outputId": "0983024e-ef56-4558-ebf4-40bade6af2a0"
      },
      "source": [
        "# The code in this cell has been used from the link provided in the google doc of pytorch.org(https://pytorch.org/tutorials/beginner/blitz/cifar10_tutorial.html#sphx-glr-beginner-blitz-cifar10-tutorial-py)\n",
        "# The code in this cell has been modified. In this code 8 new convolution layers are added.\n",
        "# Some line are added to plot the histogram. Comments are added for the same in front of them.\n",
        "\n",
        "# Experiment 4\n",
        "# With 10 convolution layers\n",
        "start_time4 = time.time() # this line is added to store start time using time function\n",
        "import torch.nn as nn\n",
        "import torch.nn.functional as F\n",
        "\n",
        "\n",
        "class Net3(nn.Module):  # this line has modified net name\n",
        "    def __init__(self):\n",
        "        super().__init__()\n",
        "        self.conv1 = nn.Conv2d(3, 6, 5)\n",
        "        self.pool = nn.MaxPool2d(2, 2)\n",
        "        self.conv2 = nn.Conv2d(6, 16, 5)\n",
        "        self.conv3 = nn.Conv2d(16, 30, 5)     # this line is added with the 3rd convolution layer\n",
        "        self.conv4 = nn.Conv2d(30, 60, 5)     # this line is added with the 4th convolution layer\n",
        "        self.conv5 = nn.Conv2d(60, 80, 5)     # this line is added with the 5th convolution layer\n",
        "        self.conv6 = nn.Conv2d(80, 100, 5)    # this line is added with the 6th convolution layer\n",
        "        self.conv7 = nn.Conv2d(100, 120, 5)   # this line is added with the 7th convolution layer\n",
        "        self.conv8 = nn.Conv2d(120, 140, 5)   # this line is added with the 8th convolution layer\n",
        "        self.conv9 = nn.Conv2d(140, 160, 5)   # this line is added with the 9th convolution layer\n",
        "        self.conv10 = nn.Conv2d(160, 180, 5)  # this line is added with the 10th convolution layer\n",
        "        self.fc1 = nn.Linear(16 * 5 * 5, 120)\n",
        "        self.fc2 = nn.Linear(120, 84)\n",
        "        self.fc3 = nn.Linear(84, 10)\n",
        "\n",
        "    def forward(self, x):\n",
        "        x = self.pool(F.relu(self.conv1(x)))\n",
        "        x = self.pool(F.relu(self.conv2(x)))\n",
        "        x = torch.flatten(x, 1) # flatten all dimensions except batch\n",
        "        x = F.relu(self.fc1(x))\n",
        "        x = F.relu(self.fc2(x))\n",
        "        x = self.fc3(x)\n",
        "        return x\n",
        "\n",
        "\n",
        "net3 = Net3()  # this line is modified with the net name\n",
        "\n",
        "\n",
        "import torch.optim as optim\n",
        "\n",
        "criterion = nn.CrossEntropyLoss()\n",
        "optimizer = optim.SGD(net3.parameters(), lr=0.001, momentum=0.9)  # this line is modified by net name\n",
        "\n",
        "\n",
        "for epoch in range(2):  # loop over the dataset multiple times\n",
        "\n",
        "    running_loss = 0.0\n",
        "    for i, data in enumerate(trainloader, 0):\n",
        "        # get the inputs; data is a list of [inputs, labels]\n",
        "        inputs, labels = data\n",
        "\n",
        "        # zero the parameter gradients\n",
        "        optimizer.zero_grad()\n",
        "\n",
        "        # forward + backward + optimize\n",
        "        outputs = net3(inputs)  # this line is modified with the net name\n",
        "        loss = criterion(outputs, labels)\n",
        "        loss.backward()\n",
        "        optimizer.step()\n",
        "\n",
        "        # print statistics\n",
        "        running_loss += loss.item()\n",
        "        if i % 2000 == 1999:    # print every 2000 mini-batches\n",
        "            print('[%d, %5d] loss: %.3f' %\n",
        "                  (epoch + 1, i + 1, running_loss / 2000))\n",
        "            running_loss = 0.0\n",
        "\n",
        "print('Finished Training')\n",
        "stop_time4 = time.time() # this line is added to store the stop time using the time function\n",
        "training_time4 = stop_time4 - start_time4 # this line is added to calculate the training time\n",
        "\n",
        "\n",
        "correct = 0\n",
        "total = 0\n",
        "# since we're not training, we don't need to calculate the gradients for our outputs\n",
        "with torch.no_grad():\n",
        "    for data in testloader:\n",
        "        images, labels = data\n",
        "        # calculate outputs by running images through the network \n",
        "        outputs = net3(images)  # this line is modified with the net name\n",
        "        # the class with the highest energy is what we choose as prediction\n",
        "        _, predicted = torch.max(outputs.data, 1)\n",
        "        total += labels.size(0)\n",
        "        correct += (predicted == labels).sum().item()\n",
        "\n",
        "print('Accuracy of the network on the 10000 test images: %d %%' % (\n",
        "    100 * correct / total))\n",
        "fourth_accuracy = int(100 * correct / total) # this line is added to store the accuracy\n",
        "\n",
        "\n",
        "# prepare to count predictions for each class\n",
        "correct_pred = {classname: 0 for classname in classes}\n",
        "total_pred = {classname: 0 for classname in classes}\n",
        "\n",
        "# again no gradients needed\n",
        "with torch.no_grad():\n",
        "    for data in testloader:\n",
        "        images, labels = data    \n",
        "        outputs = net3(images)    # this line is modified with the net name\n",
        "        _, predictions = torch.max(outputs, 1)\n",
        "        # collect the correct predictions for each class\n",
        "        for label, prediction in zip(labels, predictions):\n",
        "            if label == prediction:\n",
        "                correct_pred[classes[label]] += 1\n",
        "            total_pred[classes[label]] += 1\n",
        "\n",
        "  \n",
        "# print accuracy for each class\n",
        "for classname, correct_count in correct_pred.items():\n",
        "    accuracy = 100 * float(correct_count) / total_pred[classname]\n",
        "    print(\"Accuracy for class {:5s} is: {:.1f} %\".format(classname, \n",
        "                                                   accuracy))\n",
        "    plt.title('Accuracies for different set of images') # this line is added to provide the title to histogram\n",
        "    plt.xlabel(\"Accuracy\") # this line is added to provide the label to x-axis\n",
        "    plt.barh(classname, accuracy) # this line is added to plot the histogram"
      ],
      "execution_count": 21,
      "outputs": [
        {
          "output_type": "stream",
          "name": "stdout",
          "text": [
            "[1,  2000] loss: 2.219\n",
            "[1,  4000] loss: 1.959\n",
            "[1,  6000] loss: 1.734\n",
            "[1,  8000] loss: 1.636\n",
            "[1, 10000] loss: 1.527\n",
            "[1, 12000] loss: 1.494\n",
            "[2,  2000] loss: 1.403\n",
            "[2,  4000] loss: 1.379\n",
            "[2,  6000] loss: 1.349\n",
            "[2,  8000] loss: 1.337\n",
            "[2, 10000] loss: 1.318\n",
            "[2, 12000] loss: 1.275\n",
            "Finished Training\n",
            "Accuracy of the network on the 10000 test images: 54 %\n",
            "Accuracy for class plane is: 66.3 %\n",
            "Accuracy for class car   is: 63.3 %\n",
            "Accuracy for class bird  is: 51.3 %\n",
            "Accuracy for class cat   is: 18.5 %\n",
            "Accuracy for class deer  is: 37.7 %\n",
            "Accuracy for class dog   is: 29.6 %\n",
            "Accuracy for class frog  is: 75.9 %\n",
            "Accuracy for class horse is: 69.4 %\n",
            "Accuracy for class ship  is: 65.7 %\n",
            "Accuracy for class truck is: 69.2 %\n"
          ]
        },
        {
          "output_type": "display_data",
          "data": {
            "image/png": "[encoded data removed]",
            "text/plain": [
              "<Figure size 432x288 with 1 Axes>"
            ]
          },
          "metadata": {
            "needs_background": "light"
          }
        }
      ]
    },
    {
      "cell_type": "code",
      "metadata": {
        "colab": {
          "base_uri": "https://localhost:8080/",
          "height": 1000
        },
        "id": "xDA5mMEd86Mh",
        "outputId": "53e0e729-d25e-4911-c054-13adda6916da"
      },
      "source": [
        "# The code in this cell has been used from the link provided in the google doc of pytorch.org(https://pytorch.org/tutorials/beginner/blitz/cifar10_tutorial.html#sphx-glr-beginner-blitz-cifar10-tutorial-py)\n",
        "# Some lines are updated and some are added to plot the histogram. Comments are provided in front of them.\n",
        "\n",
        "# Experiment 5\n",
        "# With 100 output layers and 50 epochs\n",
        "start_time5 = time.time() # this line is added to store start time using time function\n",
        "import torch.nn as nn\n",
        "import torch.nn.functional as F\n",
        "\n",
        "\n",
        "class Net4(nn.Module):  # this line is modified with the net name\n",
        "    def __init__(self):\n",
        "        super().__init__()\n",
        "        self.conv1 = nn.Conv2d(3, 100, 5)     # this line is modified where the width is changed to 100\n",
        "        self.pool = nn.MaxPool2d(2, 2)\n",
        "        self.conv2 = nn.Conv2d(100, 16, 5)    # this line is modified where the input is changed to 100\n",
        "        self.fc1 = nn.Linear(16 * 5 * 5, 120)\n",
        "        self.fc2 = nn.Linear(120, 84)\n",
        "        self.fc3 = nn.Linear(84, 10)\n",
        "\n",
        "    def forward(self, x):\n",
        "        x = self.pool(F.relu(self.conv1(x))) \n",
        "        x = self.pool(F.relu(self.conv2(x))) \n",
        "        x = torch.flatten(x, 1) # flatten all dimensions except batch\n",
        "        x = F.relu(self.fc1(x)) \n",
        "        x = F.relu(self.fc2(x)) \n",
        "        x = self.fc3(x)\n",
        "        return x\n",
        "\n",
        "\n",
        "net4 = Net4() # this line is modified with the net name\n",
        "\n",
        "\n",
        "import torch.optim as optim\n",
        "\n",
        "criterion = nn.CrossEntropyLoss()\n",
        "optimizer = optim.SGD(net4.parameters(), lr=0.001, momentum=0.9) # this line is modified with the net name\n",
        "\n",
        "\n",
        "for epoch in range(50):  # this line is modified with the epoch value to 50\n",
        "\n",
        "    running_loss = 0.0\n",
        "    for i, data in enumerate(trainloader, 0):\n",
        "        # get the inputs; data is a list of [inputs, labels]\n",
        "        inputs, labels = data\n",
        "\n",
        "        # zero the parameter gradients\n",
        "        optimizer.zero_grad()\n",
        "\n",
        "        # forward + backward + optimize\n",
        "        outputs = net4(inputs) # this line is modified with the net name\n",
        "        loss = criterion(outputs, labels)\n",
        "        loss.backward()\n",
        "        optimizer.step()\n",
        "\n",
        "        # print statistics\n",
        "        running_loss += loss.item()\n",
        "        if i % 2000 == 1999:    # print every 2000 mini-batches\n",
        "            print('[%d, %5d] loss: %.3f' %\n",
        "                  (epoch + 1, i + 1, running_loss / 2000))\n",
        "            running_loss = 0.0\n",
        "\n",
        "print('Finished Training')\n",
        "stop_time5 = time.time() # this line is added to store the stop time using time function\n",
        "training_time5 = stop_time5 - start_time5  # this line is added to calculate the training time\n",
        "\n",
        "\n",
        "correct = 0\n",
        "total = 0\n",
        "# since we're not training, we don't need to calculate the gradients for our outputs\n",
        "with torch.no_grad():\n",
        "    for data in testloader:\n",
        "        images, labels = data\n",
        "        # calculate outputs by running images through the network \n",
        "        outputs = net4(images)  # this line is modified by the net name\n",
        "        # the class with the highest energy is what we choose as prediction\n",
        "        _, predicted = torch.max(outputs.data, 1)\n",
        "        total += labels.size(0)\n",
        "        correct += (predicted == labels).sum().item()\n",
        "\n",
        "print('Accuracy of the network on the 10000 test images: %d %%' % (\n",
        "    100 * correct / total))\n",
        "fifth_accuracy = int(100 * correct / total) # this line is added to store accuracy\n",
        "\n",
        "\n",
        "# prepare to count predictions for each class\n",
        "correct_pred = {classname: 0 for classname in classes}\n",
        "total_pred = {classname: 0 for classname in classes}\n",
        "\n",
        "# again no gradients needed\n",
        "with torch.no_grad():\n",
        "    for data in testloader:\n",
        "        images, labels = data    \n",
        "        outputs = net4(images)   # this line is modified by the net name   \n",
        "        _, predictions = torch.max(outputs, 1)\n",
        "        # collect the correct predictions for each class\n",
        "        for label, prediction in zip(labels, predictions):\n",
        "            if label == prediction:\n",
        "                correct_pred[classes[label]] += 1\n",
        "            total_pred[classes[label]] += 1\n",
        "\n",
        "  \n",
        "# print accuracy for each class\n",
        "for classname, correct_count in correct_pred.items():\n",
        "    accuracy = 100 * float(correct_count) / total_pred[classname]\n",
        "    print(\"Accuracy for class {:5s} is: {:.1f} %\".format(classname, \n",
        "                                                   accuracy))\n",
        "    plt.title('Accuracies for different set of images') # this line added to provide the title to histogram\n",
        "    plt.xlabel(\"Accuracy\") # this line is added to provide the label to histogram\n",
        "    plt.barh(classname, accuracy) # this line is added to plot the histogram"
      ],
      "execution_count": 22,
      "outputs": [
        {
          "output_type": "stream",
          "name": "stdout",
          "text": [
            "[1,  2000] loss: 2.086\n",
            "[1,  4000] loss: 1.702\n",
            "[1,  6000] loss: 1.539\n",
            "[1,  8000] loss: 1.456\n",
            "[1, 10000] loss: 1.397\n",
            "[1, 12000] loss: 1.343\n",
            "[2,  2000] loss: 1.264\n",
            "[2,  4000] loss: 1.216\n",
            "[2,  6000] loss: 1.210\n",
            "[2,  8000] loss: 1.175\n",
            "[2, 10000] loss: 1.153\n",
            "[2, 12000] loss: 1.119\n",
            "[3,  2000] loss: 1.047\n",
            "[3,  4000] loss: 1.024\n",
            "[3,  6000] loss: 1.045\n",
            "[3,  8000] loss: 1.034\n",
            "[3, 10000] loss: 1.021\n",
            "[3, 12000] loss: 1.002\n",
            "[4,  2000] loss: 0.926\n",
            "[4,  4000] loss: 0.934\n",
            "[4,  6000] loss: 0.953\n",
            "[4,  8000] loss: 0.946\n",
            "[4, 10000] loss: 0.933\n",
            "[4, 12000] loss: 0.909\n",
            "[5,  2000] loss: 0.857\n",
            "[5,  4000] loss: 0.851\n",
            "[5,  6000] loss: 0.862\n",
            "[5,  8000] loss: 0.898\n",
            "[5, 10000] loss: 0.869\n",
            "[5, 12000] loss: 0.855\n",
            "[6,  2000] loss: 0.778\n",
            "[6,  4000] loss: 0.808\n",
            "[6,  6000] loss: 0.802\n",
            "[6,  8000] loss: 0.823\n",
            "[6, 10000] loss: 0.840\n",
            "[6, 12000] loss: 0.823\n",
            "[7,  2000] loss: 0.731\n",
            "[7,  4000] loss: 0.744\n",
            "[7,  6000] loss: 0.769\n",
            "[7,  8000] loss: 0.777\n",
            "[7, 10000] loss: 0.765\n",
            "[7, 12000] loss: 0.777\n",
            "[8,  2000] loss: 0.694\n",
            "[8,  4000] loss: 0.720\n",
            "[8,  6000] loss: 0.724\n",
            "[8,  8000] loss: 0.743\n",
            "[8, 10000] loss: 0.712\n",
            "[8, 12000] loss: 0.736\n",
            "[9,  2000] loss: 0.670\n",
            "[9,  4000] loss: 0.673\n",
            "[9,  6000] loss: 0.701\n",
            "[9,  8000] loss: 0.685\n",
            "[9, 10000] loss: 0.706\n",
            "[9, 12000] loss: 0.724\n",
            "[10,  2000] loss: 0.618\n",
            "[10,  4000] loss: 0.648\n",
            "[10,  6000] loss: 0.659\n",
            "[10,  8000] loss: 0.688\n",
            "[10, 10000] loss: 0.678\n",
            "[10, 12000] loss: 0.673\n",
            "[11,  2000] loss: 0.597\n",
            "[11,  4000] loss: 0.602\n",
            "[11,  6000] loss: 0.639\n",
            "[11,  8000] loss: 0.653\n",
            "[11, 10000] loss: 0.659\n",
            "[11, 12000] loss: 0.628\n",
            "[12,  2000] loss: 0.570\n",
            "[12,  4000] loss: 0.593\n",
            "[12,  6000] loss: 0.589\n",
            "[12,  8000] loss: 0.653\n",
            "[12, 10000] loss: 0.643\n",
            "[12, 12000] loss: 0.639\n",
            "[13,  2000] loss: 0.518\n",
            "[13,  4000] loss: 0.571\n",
            "[13,  6000] loss: 0.603\n",
            "[13,  8000] loss: 0.593\n",
            "[13, 10000] loss: 0.609\n",
            "[13, 12000] loss: 0.619\n",
            "[14,  2000] loss: 0.508\n",
            "[14,  4000] loss: 0.538\n",
            "[14,  6000] loss: 0.555\n",
            "[14,  8000] loss: 0.599\n",
            "[14, 10000] loss: 0.590\n",
            "[14, 12000] loss: 0.620\n",
            "[15,  2000] loss: 0.489\n",
            "[15,  4000] loss: 0.522\n",
            "[15,  6000] loss: 0.572\n",
            "[15,  8000] loss: 0.561\n",
            "[15, 10000] loss: 0.561\n",
            "[15, 12000] loss: 0.561\n",
            "[16,  2000] loss: 0.481\n",
            "[16,  4000] loss: 0.528\n",
            "[16,  6000] loss: 0.505\n",
            "[16,  8000] loss: 0.541\n",
            "[16, 10000] loss: 0.558\n",
            "[16, 12000] loss: 0.554\n",
            "[17,  2000] loss: 0.470\n",
            "[17,  4000] loss: 0.508\n",
            "[17,  6000] loss: 0.512\n",
            "[17,  8000] loss: 0.528\n",
            "[17, 10000] loss: 0.547\n",
            "[17, 12000] loss: 0.534\n",
            "[18,  2000] loss: 0.457\n",
            "[18,  4000] loss: 0.482\n",
            "[18,  6000] loss: 0.491\n",
            "[18,  8000] loss: 0.501\n",
            "[18, 10000] loss: 0.538\n",
            "[18, 12000] loss: 0.553\n",
            "[19,  2000] loss: 0.438\n",
            "[19,  4000] loss: 0.456\n",
            "[19,  6000] loss: 0.500\n",
            "[19,  8000] loss: 0.498\n",
            "[19, 10000] loss: 0.506\n",
            "[19, 12000] loss: 0.526\n",
            "[20,  2000] loss: 0.417\n",
            "[20,  4000] loss: 0.434\n",
            "[20,  6000] loss: 0.489\n",
            "[20,  8000] loss: 0.515\n",
            "[20, 10000] loss: 0.512\n",
            "[20, 12000] loss: 0.526\n",
            "[21,  2000] loss: 0.412\n",
            "[21,  4000] loss: 0.459\n",
            "[21,  6000] loss: 0.463\n",
            "[21,  8000] loss: 0.465\n",
            "[21, 10000] loss: 0.520\n",
            "[21, 12000] loss: 0.505\n",
            "[22,  2000] loss: 0.423\n",
            "[22,  4000] loss: 0.426\n",
            "[22,  6000] loss: 0.451\n",
            "[22,  8000] loss: 0.473\n",
            "[22, 10000] loss: 0.493\n",
            "[22, 12000] loss: 0.509\n",
            "[23,  2000] loss: 0.402\n",
            "[23,  4000] loss: 0.432\n",
            "[23,  6000] loss: 0.450\n",
            "[23,  8000] loss: 0.451\n",
            "[23, 10000] loss: 0.495\n",
            "[23, 12000] loss: 0.502\n",
            "[24,  2000] loss: 0.377\n",
            "[24,  4000] loss: 0.407\n",
            "[24,  6000] loss: 0.436\n",
            "[24,  8000] loss: 0.466\n",
            "[24, 10000] loss: 0.466\n",
            "[24, 12000] loss: 0.494\n",
            "[25,  2000] loss: 0.396\n",
            "[25,  4000] loss: 0.400\n",
            "[25,  6000] loss: 0.458\n",
            "[25,  8000] loss: 0.454\n",
            "[25, 10000] loss: 0.479\n",
            "[25, 12000] loss: 0.477\n",
            "[26,  2000] loss: 0.366\n",
            "[26,  4000] loss: 0.418\n",
            "[26,  6000] loss: 0.455\n",
            "[26,  8000] loss: 0.474\n",
            "[26, 10000] loss: 0.460\n",
            "[26, 12000] loss: 0.442\n",
            "[27,  2000] loss: 0.377\n",
            "[27,  4000] loss: 0.406\n",
            "[27,  6000] loss: 0.423\n",
            "[27,  8000] loss: 0.434\n",
            "[27, 10000] loss: 0.494\n",
            "[27, 12000] loss: 0.499\n",
            "[28,  2000] loss: 0.342\n",
            "[28,  4000] loss: 0.393\n",
            "[28,  6000] loss: 0.420\n",
            "[28,  8000] loss: 0.426\n",
            "[28, 10000] loss: 0.432\n",
            "[28, 12000] loss: 0.459\n",
            "[29,  2000] loss: 0.357\n",
            "[29,  4000] loss: 0.385\n",
            "[29,  6000] loss: 0.417\n",
            "[29,  8000] loss: 0.458\n",
            "[29, 10000] loss: 0.423\n",
            "[29, 12000] loss: 0.460\n",
            "[30,  2000] loss: 0.359\n",
            "[30,  4000] loss: 0.403\n",
            "[30,  6000] loss: 0.441\n",
            "[30,  8000] loss: 0.449\n",
            "[30, 10000] loss: 0.461\n",
            "[30, 12000] loss: 0.443\n",
            "[31,  2000] loss: 0.364\n",
            "[31,  4000] loss: 0.398\n",
            "[31,  6000] loss: 0.401\n",
            "[31,  8000] loss: 0.443\n",
            "[31, 10000] loss: 0.437\n",
            "[31, 12000] loss: 0.472\n",
            "[32,  2000] loss: 0.350\n",
            "[32,  4000] loss: 0.404\n",
            "[32,  6000] loss: 0.400\n",
            "[32,  8000] loss: 0.411\n",
            "[32, 10000] loss: 0.438\n",
            "[32, 12000] loss: 0.436\n",
            "[33,  2000] loss: 0.331\n",
            "[33,  4000] loss: 0.375\n",
            "[33,  6000] loss: 0.407\n",
            "[33,  8000] loss: 0.429\n",
            "[33, 10000] loss: 0.437\n",
            "[33, 12000] loss: 0.451\n",
            "[34,  2000] loss: 0.351\n",
            "[34,  4000] loss: 0.382\n",
            "[34,  6000] loss: 0.440\n",
            "[34,  8000] loss: 0.423\n",
            "[34, 10000] loss: 0.438\n",
            "[34, 12000] loss: 0.449\n",
            "[35,  2000] loss: 0.331\n",
            "[35,  4000] loss: 0.364\n",
            "[35,  6000] loss: 0.406\n",
            "[35,  8000] loss: 0.422\n",
            "[35, 10000] loss: 0.422\n",
            "[35, 12000] loss: 0.441\n",
            "[36,  2000] loss: 0.344\n",
            "[36,  4000] loss: 0.349\n",
            "[36,  6000] loss: 0.380\n",
            "[36,  8000] loss: 0.405\n",
            "[36, 10000] loss: 0.433\n",
            "[36, 12000] loss: 0.451\n",
            "[37,  2000] loss: 0.350\n",
            "[37,  4000] loss: 0.384\n",
            "[37,  6000] loss: 0.394\n",
            "[37,  8000] loss: 0.386\n",
            "[37, 10000] loss: 0.430\n",
            "[37, 12000] loss: 0.423\n",
            "[38,  2000] loss: 0.337\n",
            "[38,  4000] loss: 0.383\n",
            "[38,  6000] loss: 0.418\n",
            "[38,  8000] loss: 0.378\n",
            "[38, 10000] loss: 0.430\n",
            "[38, 12000] loss: 0.426\n",
            "[39,  2000] loss: 0.354\n",
            "[39,  4000] loss: 0.358\n",
            "[39,  6000] loss: 0.390\n",
            "[39,  8000] loss: 0.406\n",
            "[39, 10000] loss: 0.469\n",
            "[39, 12000] loss: 0.426\n",
            "[40,  2000] loss: 0.319\n",
            "[40,  4000] loss: 0.384\n",
            "[40,  6000] loss: 0.443\n",
            "[40,  8000] loss: 0.417\n",
            "[40, 10000] loss: 0.431\n",
            "[40, 12000] loss: 0.419\n",
            "[41,  2000] loss: 0.345\n",
            "[41,  4000] loss: 0.363\n",
            "[41,  6000] loss: 0.414\n",
            "[41,  8000] loss: 0.429\n",
            "[41, 10000] loss: 0.459\n",
            "[41, 12000] loss: 0.409\n",
            "[42,  2000] loss: 0.311\n",
            "[42,  4000] loss: 0.376\n",
            "[42,  6000] loss: 0.435\n",
            "[42,  8000] loss: 0.388\n",
            "[42, 10000] loss: 0.439\n",
            "[42, 12000] loss: 0.436\n",
            "[43,  2000] loss: 0.353\n",
            "[43,  4000] loss: 0.395\n",
            "[43,  6000] loss: 0.434\n",
            "[43,  8000] loss: 0.404\n",
            "[43, 10000] loss: 0.429\n",
            "[43, 12000] loss: 0.429\n",
            "[44,  2000] loss: 0.360\n",
            "[44,  4000] loss: 0.407\n",
            "[44,  6000] loss: 0.396\n",
            "[44,  8000] loss: 0.424\n",
            "[44, 10000] loss: 0.436\n",
            "[44, 12000] loss: 0.430\n",
            "[45,  2000] loss: 0.358\n",
            "[45,  4000] loss: 0.373\n",
            "[45,  6000] loss: 0.396\n",
            "[45,  8000] loss: 0.459\n",
            "[45, 10000] loss: 0.423\n",
            "[45, 12000] loss: 0.424\n",
            "[46,  2000] loss: 0.347\n",
            "[46,  4000] loss: 0.382\n",
            "[46,  6000] loss: 0.379\n",
            "[46,  8000] loss: 0.414\n",
            "[46, 10000] loss: 0.430\n",
            "[46, 12000] loss: 0.450\n",
            "[47,  2000] loss: 0.327\n",
            "[47,  4000] loss: 0.381\n",
            "[47,  6000] loss: 0.410\n",
            "[47,  8000] loss: 0.410\n",
            "[47, 10000] loss: 0.399\n",
            "[47, 12000] loss: 0.419\n",
            "[48,  2000] loss: 0.355\n",
            "[48,  4000] loss: 0.389\n",
            "[48,  6000] loss: 0.411\n",
            "[48,  8000] loss: 0.419\n",
            "[48, 10000] loss: 0.433\n",
            "[48, 12000] loss: 0.436\n",
            "[49,  2000] loss: 0.329\n",
            "[49,  4000] loss: 0.371\n",
            "[49,  6000] loss: 0.400\n",
            "[49,  8000] loss: 0.391\n",
            "[49, 10000] loss: 0.455\n",
            "[49, 12000] loss: 0.435\n",
            "[50,  2000] loss: 0.365\n",
            "[50,  4000] loss: 0.381\n",
            "[50,  6000] loss: 0.399\n",
            "[50,  8000] loss: 0.423\n",
            "[50, 10000] loss: 0.432\n",
            "[50, 12000] loss: 0.466\n",
            "Finished Training\n",
            "Accuracy of the network on the 10000 test images: 66 %\n",
            "Accuracy for class plane is: 73.4 %\n",
            "Accuracy for class car   is: 80.0 %\n",
            "Accuracy for class bird  is: 52.8 %\n",
            "Accuracy for class cat   is: 50.3 %\n",
            "Accuracy for class deer  is: 59.4 %\n",
            "Accuracy for class dog   is: 55.6 %\n",
            "Accuracy for class frog  is: 71.3 %\n",
            "Accuracy for class horse is: 68.3 %\n",
            "Accuracy for class ship  is: 72.8 %\n",
            "Accuracy for class truck is: 77.9 %\n"
          ]
        },
        {
          "output_type": "display_data",
          "data": {
            "image/png": "[encoded data removed]",
            "text/plain": [
              "<Figure size 432x288 with 1 Axes>"
            ]
          },
          "metadata": {
            "needs_background": "light"
          }
        }
      ]
    },
    {
      "cell_type": "code",
      "metadata": {
        "id": "9_5Rle5YVrrD",
        "colab": {
          "base_uri": "https://localhost:8080/",
          "height": 312
        },
        "outputId": "cf66450c-fc89-434f-fd92-191b5c631ac0"
      },
      "source": [
        "# The code in this cell is added to plot the histogram for the comparison of accuracies for various experiments\n",
        "# Comparison of accuracies for various experiments \n",
        "x = [\"Experiment 1\", \"Experiment 2\", \"Experiment 3\", \"Experiment 4\", \"Experiment 5\"]   # this line is added to store different experiments in x \n",
        "y = [first_accuracy, second_accuracy, third_accuracy, fourth_accuracy, fifth_accuracy] # this line is added to store different accuracies in y\n",
        "plt.title('Comparison of accuracies for various experiments') # this line is added to provide the title to the histogram\n",
        "plt.xlabel(\"Accuracy\") # this line is added to provide label to the histogram\n",
        "plt.barh(x, y, color = \"purple\") # this line is added to plot the histogram"
      ],
      "execution_count": 23,
      "outputs": [
        {
          "output_type": "execute_result",
          "data": {
            "text/plain": [
              "<BarContainer object of 5 artists>"
            ]
          },
          "metadata": {},
          "execution_count": 23
        },
        {
          "output_type": "display_data",
          "data": {
            "image/png": "[encoded data removed]",
            "text/plain": [
              "<Figure size 432x288 with 1 Axes>"
            ]
          },
          "metadata": {
            "needs_background": "light"
          }
        }
      ]
    },
    {
      "cell_type": "code",
      "metadata": {
        "id": "EGblBzI_sf27",
        "colab": {
          "base_uri": "https://localhost:8080/",
          "height": 298
        },
        "outputId": "016c7914-6a30-4af8-c226-921edf19eaa1"
      },
      "source": [
        "# The code in this cell is added to plot the histogram for the comparison of training time for various experiments\n",
        "\n",
        "#Training Time Comparison\n",
        "x = [\"Experiment 1\", \"Experiment 2\", \"Experiment 3\", \"Experiment 4\", \"Experiment 5\"] # this line is added to store different experiments in x \n",
        "y = [training_time1, training_time2, training_time3, training_time4, training_time5] # this line is added to store different training times in y\n",
        "plt.title('Training time comparison for various experiments') # this line is added to provide the title to the histogram\n",
        "plt.ylabel(\"Time in seconds\") # this line is added to provide label to the histogram\n",
        "plt.plot(x,y, color = \"brown\") # this line is added to plot the histogram"
      ],
      "execution_count": 30,
      "outputs": [
        {
          "output_type": "execute_result",
          "data": {
            "text/plain": [
              "[<matplotlib.lines.Line2D at 0x7f7e581e76d0>]"
            ]
          },
          "metadata": {},
          "execution_count": 30
        },
        {
          "output_type": "display_data",
          "data": {
            "image/png": "[encoded data removed]",
            "text/plain": [
              "<Figure size 432x288 with 1 Axes>"
            ]
          },
          "metadata": {
            "needs_background": "light"
          }
        }
      ]
    }
  ]
}